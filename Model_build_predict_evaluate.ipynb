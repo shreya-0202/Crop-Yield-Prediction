{
 "cells": [
  {
   "cell_type": "code",
   "execution_count": 4,
   "metadata": {},
   "outputs": [],
   "source": [
    "import numpy\n",
    "import pandas\n",
    "import matplotlib.pyplot as plt\n",
    "from sklearn.metrics import accuracy_score\n",
    "from sklearn.model_selection import train_test_split"
   ]
  },
  {
   "cell_type": "code",
   "execution_count": 5,
   "metadata": {},
   "outputs": [
    {
     "data": {
      "text/html": [
       "<div>\n",
       "<style scoped>\n",
       "    .dataframe tbody tr th:only-of-type {\n",
       "        vertical-align: middle;\n",
       "    }\n",
       "\n",
       "    .dataframe tbody tr th {\n",
       "        vertical-align: top;\n",
       "    }\n",
       "\n",
       "    .dataframe thead th {\n",
       "        text-align: right;\n",
       "    }\n",
       "</style>\n",
       "<table border=\"1\" class=\"dataframe\">\n",
       "  <thead>\n",
       "    <tr style=\"text-align: right;\">\n",
       "      <th></th>\n",
       "      <th>Location</th>\n",
       "      <th>Precipitation(mm)</th>\n",
       "      <th>Minimum Temperature (degree Celsius)</th>\n",
       "      <th>Mean Temperature(degree Celsius)</th>\n",
       "      <th>Maximum Temperature(degree Celsius)</th>\n",
       "      <th>Reference Crop Evapotranspiration (mm)</th>\n",
       "      <th>Area (In Hectare)</th>\n",
       "      <th>Production (In Tonnes)</th>\n",
       "      <th>Yield (Tonnes/Hect.)</th>\n",
       "    </tr>\n",
       "  </thead>\n",
       "  <tbody>\n",
       "    <tr>\n",
       "      <th>0</th>\n",
       "      <td>-0.5</td>\n",
       "      <td>0.391904</td>\n",
       "      <td>-0.004260</td>\n",
       "      <td>-0.161122</td>\n",
       "      <td>-0.256580</td>\n",
       "      <td>-0.422769</td>\n",
       "      <td>0.281736</td>\n",
       "      <td>0.240463</td>\n",
       "      <td>3.009976</td>\n",
       "    </tr>\n",
       "    <tr>\n",
       "      <th>1</th>\n",
       "      <td>-0.5</td>\n",
       "      <td>0.362928</td>\n",
       "      <td>-0.028595</td>\n",
       "      <td>-0.179207</td>\n",
       "      <td>-0.272203</td>\n",
       "      <td>-0.430218</td>\n",
       "      <td>0.429240</td>\n",
       "      <td>0.468128</td>\n",
       "      <td>3.203097</td>\n",
       "    </tr>\n",
       "    <tr>\n",
       "      <th>2</th>\n",
       "      <td>-0.5</td>\n",
       "      <td>0.341283</td>\n",
       "      <td>0.164969</td>\n",
       "      <td>-0.024770</td>\n",
       "      <td>-0.143458</td>\n",
       "      <td>-0.368765</td>\n",
       "      <td>0.128165</td>\n",
       "      <td>-0.010475</td>\n",
       "      <td>2.713547</td>\n",
       "    </tr>\n",
       "    <tr>\n",
       "      <th>3</th>\n",
       "      <td>-0.5</td>\n",
       "      <td>0.511259</td>\n",
       "      <td>0.053271</td>\n",
       "      <td>-0.114808</td>\n",
       "      <td>-0.218490</td>\n",
       "      <td>-0.402285</td>\n",
       "      <td>0.078254</td>\n",
       "      <td>0.037013</td>\n",
       "      <td>2.986351</td>\n",
       "    </tr>\n",
       "    <tr>\n",
       "      <th>4</th>\n",
       "      <td>-0.5</td>\n",
       "      <td>0.486288</td>\n",
       "      <td>0.000000</td>\n",
       "      <td>0.020897</td>\n",
       "      <td>-0.105440</td>\n",
       "      <td>-0.352006</td>\n",
       "      <td>0.387327</td>\n",
       "      <td>0.398733</td>\n",
       "      <td>3.141604</td>\n",
       "    </tr>\n",
       "  </tbody>\n",
       "</table>\n",
       "</div>"
      ],
      "text/plain": [
       "   Location  Precipitation(mm)  Minimum Temperature (degree Celsius)  \\\n",
       "0      -0.5           0.391904                             -0.004260   \n",
       "1      -0.5           0.362928                             -0.028595   \n",
       "2      -0.5           0.341283                              0.164969   \n",
       "3      -0.5           0.511259                              0.053271   \n",
       "4      -0.5           0.486288                              0.000000   \n",
       "\n",
       "   Mean Temperature(degree Celsius)  Maximum Temperature(degree Celsius)  \\\n",
       "0                         -0.161122                            -0.256580   \n",
       "1                         -0.179207                            -0.272203   \n",
       "2                         -0.024770                            -0.143458   \n",
       "3                         -0.114808                            -0.218490   \n",
       "4                          0.020897                            -0.105440   \n",
       "\n",
       "   Reference Crop Evapotranspiration (mm)  Area (In Hectare)  \\\n",
       "0                               -0.422769           0.281736   \n",
       "1                               -0.430218           0.429240   \n",
       "2                               -0.368765           0.128165   \n",
       "3                               -0.402285           0.078254   \n",
       "4                               -0.352006           0.387327   \n",
       "\n",
       "   Production (In Tonnes)  Yield (Tonnes/Hect.)  \n",
       "0                0.240463              3.009976  \n",
       "1                0.468128              3.203097  \n",
       "2               -0.010475              2.713547  \n",
       "3                0.037013              2.986351  \n",
       "4                0.398733              3.141604  "
      ]
     },
     "execution_count": 5,
     "metadata": {},
     "output_type": "execute_result"
    }
   ],
   "source": [
    "df_crop = pandas.read_csv(r'C:\\Users\\Lenovo\\Desktop\\Crop-Yield-Prediction-master\\Crop Yield Prediction\\Data\\crop_yield_datasource_preprocessed.csv')\n",
    "df_crop.head()"
   ]
  },
  {
   "cell_type": "code",
   "execution_count": 6,
   "metadata": {},
   "outputs": [
    {
     "data": {
      "text/plain": [
       "Index(['Location', 'Precipitation(mm)', 'Minimum Temperature (degree Celsius)',\n",
       "       'Mean Temperature(degree Celsius)',\n",
       "       'Maximum Temperature(degree Celsius)',\n",
       "       'Reference Crop Evapotranspiration (mm)', 'Area (In Hectare)',\n",
       "       'Production (In Tonnes)', 'Yield (Tonnes/Hect.)'],\n",
       "      dtype='object')"
      ]
     },
     "execution_count": 6,
     "metadata": {},
     "output_type": "execute_result"
    }
   ],
   "source": [
    "df_crop.columns = df_crop.columns.str.strip()\n",
    "df_crop.columns"
   ]
  },
  {
   "cell_type": "code",
   "execution_count": 7,
   "metadata": {},
   "outputs": [
    {
     "data": {
      "text/html": [
       "<div>\n",
       "<style scoped>\n",
       "    .dataframe tbody tr th:only-of-type {\n",
       "        vertical-align: middle;\n",
       "    }\n",
       "\n",
       "    .dataframe tbody tr th {\n",
       "        vertical-align: top;\n",
       "    }\n",
       "\n",
       "    .dataframe thead th {\n",
       "        text-align: right;\n",
       "    }\n",
       "</style>\n",
       "<table border=\"1\" class=\"dataframe\">\n",
       "  <thead>\n",
       "    <tr style=\"text-align: right;\">\n",
       "      <th></th>\n",
       "      <th>Location</th>\n",
       "      <th>Precipitation(mm)</th>\n",
       "      <th>Minimum Temperature (degree Celsius)</th>\n",
       "      <th>Mean Temperature(degree Celsius)</th>\n",
       "      <th>Maximum Temperature(degree Celsius)</th>\n",
       "      <th>Reference Crop Evapotranspiration (mm)</th>\n",
       "      <th>Area (In Hectare)</th>\n",
       "      <th>Production (In Tonnes)</th>\n",
       "    </tr>\n",
       "  </thead>\n",
       "  <tbody>\n",
       "    <tr>\n",
       "      <th>0</th>\n",
       "      <td>-0.5</td>\n",
       "      <td>0.391904</td>\n",
       "      <td>-0.004260</td>\n",
       "      <td>-0.161122</td>\n",
       "      <td>-0.256580</td>\n",
       "      <td>-0.422769</td>\n",
       "      <td>0.281736</td>\n",
       "      <td>0.240463</td>\n",
       "    </tr>\n",
       "    <tr>\n",
       "      <th>1</th>\n",
       "      <td>-0.5</td>\n",
       "      <td>0.362928</td>\n",
       "      <td>-0.028595</td>\n",
       "      <td>-0.179207</td>\n",
       "      <td>-0.272203</td>\n",
       "      <td>-0.430218</td>\n",
       "      <td>0.429240</td>\n",
       "      <td>0.468128</td>\n",
       "    </tr>\n",
       "    <tr>\n",
       "      <th>2</th>\n",
       "      <td>-0.5</td>\n",
       "      <td>0.341283</td>\n",
       "      <td>0.164969</td>\n",
       "      <td>-0.024770</td>\n",
       "      <td>-0.143458</td>\n",
       "      <td>-0.368765</td>\n",
       "      <td>0.128165</td>\n",
       "      <td>-0.010475</td>\n",
       "    </tr>\n",
       "    <tr>\n",
       "      <th>3</th>\n",
       "      <td>-0.5</td>\n",
       "      <td>0.511259</td>\n",
       "      <td>0.053271</td>\n",
       "      <td>-0.114808</td>\n",
       "      <td>-0.218490</td>\n",
       "      <td>-0.402285</td>\n",
       "      <td>0.078254</td>\n",
       "      <td>0.037013</td>\n",
       "    </tr>\n",
       "    <tr>\n",
       "      <th>4</th>\n",
       "      <td>-0.5</td>\n",
       "      <td>0.486288</td>\n",
       "      <td>0.000000</td>\n",
       "      <td>0.020897</td>\n",
       "      <td>-0.105440</td>\n",
       "      <td>-0.352006</td>\n",
       "      <td>0.387327</td>\n",
       "      <td>0.398733</td>\n",
       "    </tr>\n",
       "  </tbody>\n",
       "</table>\n",
       "</div>"
      ],
      "text/plain": [
       "   Location  Precipitation(mm)  Minimum Temperature (degree Celsius)  \\\n",
       "0      -0.5           0.391904                             -0.004260   \n",
       "1      -0.5           0.362928                             -0.028595   \n",
       "2      -0.5           0.341283                              0.164969   \n",
       "3      -0.5           0.511259                              0.053271   \n",
       "4      -0.5           0.486288                              0.000000   \n",
       "\n",
       "   Mean Temperature(degree Celsius)  Maximum Temperature(degree Celsius)  \\\n",
       "0                         -0.161122                            -0.256580   \n",
       "1                         -0.179207                            -0.272203   \n",
       "2                         -0.024770                            -0.143458   \n",
       "3                         -0.114808                            -0.218490   \n",
       "4                          0.020897                            -0.105440   \n",
       "\n",
       "   Reference Crop Evapotranspiration (mm)  Area (In Hectare)  \\\n",
       "0                               -0.422769           0.281736   \n",
       "1                               -0.430218           0.429240   \n",
       "2                               -0.368765           0.128165   \n",
       "3                               -0.402285           0.078254   \n",
       "4                               -0.352006           0.387327   \n",
       "\n",
       "   Production (In Tonnes)  \n",
       "0                0.240463  \n",
       "1                0.468128  \n",
       "2               -0.010475  \n",
       "3                0.037013  \n",
       "4                0.398733  "
      ]
     },
     "execution_count": 7,
     "metadata": {},
     "output_type": "execute_result"
    }
   ],
   "source": [
    "x = df_crop.drop('Yield (Tonnes/Hect.)', axis=1)\n",
    "x.head()"
   ]
  },
  {
   "cell_type": "code",
   "execution_count": 34,
   "metadata": {},
   "outputs": [
    {
     "name": "stdout",
     "output_type": "stream",
     "text": [
      "shape of x_train is: (28, 8)\n",
      "shape of x_test is: (12, 8)\n",
      "shape of y_train is: (28,)\n",
      "shape of y_test is: (12,)\n"
     ]
    }
   ],
   "source": [
    "#test_train_split\n",
    "x_train, x_test , y_train, y_test = train_test_split(x,df_crop['Yield (Tonnes/Hect.)'], test_size = 0.3, random_state=0)\n",
    "print('shape of x_train is:', x_train.shape)\n",
    "print('shape of x_test is:', x_test.shape)\n",
    "print('shape of y_train is:', y_train.shape)\n",
    "print('shape of y_test is:', y_test.shape)"
   ]
  },
  {
   "cell_type": "markdown",
   "metadata": {},
   "source": [
    "**Multiple Linear Regression**"
   ]
  },
  {
   "cell_type": "code",
   "execution_count": 35,
   "metadata": {},
   "outputs": [],
   "source": [
    "from sklearn.linear_model import LinearRegression"
   ]
  },
  {
   "cell_type": "code",
   "execution_count": 36,
   "metadata": {},
   "outputs": [
    {
     "name": "stdout",
     "output_type": "stream",
     "text": [
      "number of slopes 8\n",
      "slopes are [ 0.51036933  0.22346373  0.4860834  -0.32835937 -0.24708101 -0.05178199\n",
      " -3.47358555  3.61711285]\n",
      "Intercept is 3.1728268157729667\n"
     ]
    }
   ],
   "source": [
    "model_lin = LinearRegression()\n",
    "model_lin.fit(x_train,y_train)\n",
    "print('number of slopes', len(model_lin.coef_) )\n",
    "print('slopes are', model_lin.coef_)\n",
    "print('Intercept is', model_lin.intercept_)"
   ]
  },
  {
   "cell_type": "code",
   "execution_count": 37,
   "metadata": {},
   "outputs": [],
   "source": [
    "from sklearn.metrics import r2_score\n",
    "from sklearn.metrics import mean_squared_error"
   ]
  },
  {
   "cell_type": "code",
   "execution_count": 38,
   "metadata": {},
   "outputs": [
    {
     "name": "stdout",
     "output_type": "stream",
     "text": [
      "MSE of the model is 0.017805243601195495\n",
      "R2 score is 0.8687050964049251\n",
      "Accuracy is  96.71518156881793\n"
     ]
    }
   ],
   "source": [
    "pv_lin = model_lin.predict(x_test)\n",
    "print('MSE of the model is', mean_squared_error(pv_lin, y_test))\n",
    "print('R2 score is', r2_score(pv_lin, y_test))\n",
    "pv_lin = model_lin.predict(x_test)\n",
    "errors = abs(pv_lin-y_test)\n",
    "mape = 100*errors/y_test\n",
    "accuracy_lin1 = 100-numpy.mean(mape)\n",
    "print(\"Accuracy is \",accuracy_lin1)"
   ]
  },
  {
   "cell_type": "markdown",
   "metadata": {},
   "source": [
    "**Decision Tree Regression**"
   ]
  },
  {
   "cell_type": "code",
   "execution_count": 39,
   "metadata": {},
   "outputs": [],
   "source": [
    "from sklearn.tree import DecisionTreeRegressor"
   ]
  },
  {
   "cell_type": "code",
   "execution_count": 40,
   "metadata": {},
   "outputs": [],
   "source": [
    "model_dtr = DecisionTreeRegressor()\n",
    "model_dtr.fit(x_train,y_train)\n",
    "pv_dtr = model_dtr.predict(x_test)"
   ]
  },
  {
   "cell_type": "code",
   "execution_count": 41,
   "metadata": {},
   "outputs": [
    {
     "name": "stdout",
     "output_type": "stream",
     "text": [
      "MSE of the model is 0.17860033841890513\n",
      "Accuracy is  91.22851200466917\n"
     ]
    }
   ],
   "source": [
    "print('MSE of the model is', mean_squared_error(pv_dtr, y_test))\n",
    "errors = abs(pv_dtr-y_test)\n",
    "mape = 100*errors/y_test\n",
    "accuracy_dtr1 = 100-numpy.mean(mape)\n",
    "print(\"Accuracy is \",accuracy_dtr1)"
   ]
  },
  {
   "cell_type": "markdown",
   "metadata": {},
   "source": [
    "**Support Vector Regression**"
   ]
  },
  {
   "cell_type": "code",
   "execution_count": 42,
   "metadata": {},
   "outputs": [],
   "source": [
    "from sklearn.svm import SVR"
   ]
  },
  {
   "cell_type": "code",
   "execution_count": 43,
   "metadata": {},
   "outputs": [
    {
     "data": {
      "text/plain": [
       "SVR(C=1.0, cache_size=200, coef0=0.0, degree=3, epsilon=0.1, gamma='auto',\n",
       "    kernel='rbf', max_iter=-1, shrinking=True, tol=0.001, verbose=False)"
      ]
     },
     "execution_count": 43,
     "metadata": {},
     "output_type": "execute_result"
    }
   ],
   "source": [
    "svr_regressor = SVR(kernel='rbf', gamma='auto')\n",
    "svr_regressor.fit(x_train, y_train)"
   ]
  },
  {
   "cell_type": "code",
   "execution_count": 44,
   "metadata": {},
   "outputs": [
    {
     "name": "stdout",
     "output_type": "stream",
     "text": [
      "MSE of the model is 0.06992391707118108\n",
      "Accuracy is  92.77202575702157\n"
     ]
    }
   ],
   "source": [
    "pv_reg = svr_regressor.predict(x_test)\n",
    "print('MSE of the model is', mean_squared_error(pv_reg, y_test))\n",
    "errors = abs(pv_reg-y_test)\n",
    "mape = 100*errors/y_test\n",
    "accuracy_reg1= 100-numpy.mean(mape)\n",
    "print(\"Accuracy is \",accuracy_reg1)"
   ]
  },
  {
   "cell_type": "markdown",
   "metadata": {},
   "source": [
    "**Random Forest**"
   ]
  },
  {
   "cell_type": "code",
   "execution_count": 45,
   "metadata": {},
   "outputs": [],
   "source": [
    "from sklearn.ensemble import RandomForestRegressor"
   ]
  },
  {
   "cell_type": "code",
   "execution_count": 46,
   "metadata": {},
   "outputs": [
    {
     "data": {
      "text/plain": [
       "RandomForestRegressor(bootstrap=True, ccp_alpha=0.0, criterion='mse',\n",
       "                      max_depth=None, max_features='auto', max_leaf_nodes=None,\n",
       "                      max_samples=None, min_impurity_decrease=0.0,\n",
       "                      min_impurity_split=None, min_samples_leaf=1,\n",
       "                      min_samples_split=2, min_weight_fraction_leaf=0.0,\n",
       "                      n_estimators=10, n_jobs=None, oob_score=False,\n",
       "                      random_state=3, verbose=0, warm_start=False)"
      ]
     },
     "execution_count": 46,
     "metadata": {},
     "output_type": "execute_result"
    }
   ],
   "source": [
    "forest_regressor = RandomForestRegressor(n_estimators = 10, random_state = 3)\n",
    "forest_regressor.fit(x_train, y_train)"
   ]
  },
  {
   "cell_type": "code",
   "execution_count": 47,
   "metadata": {},
   "outputs": [
    {
     "name": "stdout",
     "output_type": "stream",
     "text": [
      "MSE of the model is 0.05951330589726963\n",
      "Accuracy is  93.47529308387303\n"
     ]
    }
   ],
   "source": [
    "pv_forest = forest_regressor.predict(x_test)\n",
    "print('MSE of the model is', mean_squared_error(pv_forest, y_test))\n",
    "errors = abs(pv_forest-y_test)\n",
    "mape = 100*errors/y_test\n",
    "accuracy_forest1 = 100-numpy.mean(mape)\n",
    "print(\"Accuracy is \",accuracy_forest1)"
   ]
  },
  {
   "cell_type": "markdown",
   "metadata": {},
   "source": [
    "**when training data is 75%**"
   ]
  },
  {
   "cell_type": "code",
   "execution_count": 48,
   "metadata": {},
   "outputs": [],
   "source": [
    "x_train, x_test , y_train, y_test = train_test_split(x,df_crop['Yield (Tonnes/Hect.)'], test_size = 0.25, random_state=0)"
   ]
  },
  {
   "cell_type": "code",
   "execution_count": 49,
   "metadata": {},
   "outputs": [
    {
     "name": "stdout",
     "output_type": "stream",
     "text": [
      "Accuracy is  96.95180384394183\n"
     ]
    }
   ],
   "source": [
    "#Linear Regression\n",
    "pv_lin = model_lin.predict(x_test)\n",
    "errors = abs(pv_lin-y_test)\n",
    "mape = 100*errors/y_test\n",
    "accuracy_lin2 = 100-numpy.mean(mape)\n",
    "print(\"Accuracy is \",accuracy_lin2)"
   ]
  },
  {
   "cell_type": "code",
   "execution_count": 50,
   "metadata": {},
   "outputs": [
    {
     "name": "stdout",
     "output_type": "stream",
     "text": [
      "92.09534630299237\n"
     ]
    }
   ],
   "source": [
    "#DecisionTreeRegressor\n",
    "pv_dtr = model_dtr.predict(x_test)\n",
    "errors = abs(pv_dtr-y_test)\n",
    "mape = 100*errors/y_test\n",
    "accuracy_dtr2 = 100-numpy.mean(mape)\n",
    "print(accuracy_dtr2)"
   ]
  },
  {
   "cell_type": "code",
   "execution_count": 51,
   "metadata": {},
   "outputs": [
    {
     "name": "stdout",
     "output_type": "stream",
     "text": [
      "92.86851368341117\n"
     ]
    }
   ],
   "source": [
    "#SVR\n",
    "pv_reg = svr_regressor.predict(x_test)\n",
    "errors = abs(pv_reg-y_test)\n",
    "mape = 100*errors/y_test\n",
    "accuracy_reg2 = 100-numpy.mean(mape)\n",
    "print(accuracy_reg2)"
   ]
  },
  {
   "cell_type": "code",
   "execution_count": 52,
   "metadata": {},
   "outputs": [
    {
     "name": "stdout",
     "output_type": "stream",
     "text": [
      "93.23002521986172\n"
     ]
    }
   ],
   "source": [
    "#RandomForestRegressor\n",
    "pv_forest = forest_regressor.predict(x_test)\n",
    "errors = abs(pv_forest-y_test)\n",
    "mape = 100*errors/y_test\n",
    "accuracy_forest2 = 100-numpy.mean(mape)\n",
    "print(accuracy_forest2)"
   ]
  },
  {
   "cell_type": "markdown",
   "metadata": {},
   "source": [
    "**when training data is 80%**"
   ]
  },
  {
   "cell_type": "code",
   "execution_count": 53,
   "metadata": {},
   "outputs": [],
   "source": [
    "x_train, x_test , y_train, y_test = train_test_split(x,df_crop['Yield (Tonnes/Hect.)'], test_size = 0.2, random_state=0)"
   ]
  },
  {
   "cell_type": "code",
   "execution_count": 54,
   "metadata": {},
   "outputs": [
    {
     "name": "stdout",
     "output_type": "stream",
     "text": [
      "Accuracy is  97.45229784926478\n"
     ]
    }
   ],
   "source": [
    "#Linear Regression\n",
    "pv_lin = model_lin.predict(x_test)\n",
    "errors = abs(pv_lin-y_test)\n",
    "mape = 100*errors/y_test\n",
    "accuracy_lin3 = 100-numpy.mean(mape)\n",
    "print(\"Accuracy is \",accuracy_lin3)"
   ]
  },
  {
   "cell_type": "code",
   "execution_count": 55,
   "metadata": {},
   "outputs": [
    {
     "name": "stdout",
     "output_type": "stream",
     "text": [
      "90.84055257441557\n"
     ]
    }
   ],
   "source": [
    "#DecisionTreeRegressor\n",
    "pv_dtr = model_dtr.predict(x_test)\n",
    "errors = abs(pv_dtr-y_test)\n",
    "mape = 100*errors/y_test\n",
    "accuracy_dtr3 = 100-numpy.mean(mape)\n",
    "print(accuracy_dtr3)"
   ]
  },
  {
   "cell_type": "code",
   "execution_count": 56,
   "metadata": {},
   "outputs": [
    {
     "name": "stdout",
     "output_type": "stream",
     "text": [
      "93.92684126620253\n"
     ]
    }
   ],
   "source": [
    "#SVR\n",
    "pv_reg = svr_regressor.predict(x_test)\n",
    "errors = abs(pv_reg-y_test)\n",
    "mape = 100*errors/y_test\n",
    "accuracy_reg3 = 100-numpy.mean(mape)\n",
    "print(accuracy_reg3)"
   ]
  },
  {
   "cell_type": "code",
   "execution_count": 57,
   "metadata": {},
   "outputs": [
    {
     "name": "stdout",
     "output_type": "stream",
     "text": [
      "93.47887541803873\n"
     ]
    }
   ],
   "source": [
    "#RandomForestRegressor\n",
    "pv_forest = forest_regressor.predict(x_test)\n",
    "errors = abs(pv_forest-y_test)\n",
    "mape = 100*errors/y_test\n",
    "accuracy_forest3 = 100-numpy.mean(mape)\n",
    "print(accuracy_forest3)"
   ]
  },
  {
   "cell_type": "code",
   "execution_count": 58,
   "metadata": {},
   "outputs": [],
   "source": [
    " import matplotlib.pyplot as plt "
   ]
  },
  {
   "cell_type": "code",
   "execution_count": 59,
   "metadata": {},
   "outputs": [
    {
     "name": "stdout",
     "output_type": "stream",
     "text": [
      "Multiple Linear Regression accuracy: [96.71518156881793, 96.95180384394183, 97.45229784926478]\n",
      "Decision Tree Accuracy: [91.22851200466917, 92.09534630299237, 90.84055257441557]\n",
      "Support Vector Regression Accuracy: [92.77202575702157, 92.86851368341117, 93.92684126620253]\n",
      "Random Forest Regression Accuracy: [93.47529308387303, 93.23002521986172, 93.47887541803873]\n"
     ]
    }
   ],
   "source": [
    "train_list= [70,75,80]\n",
    "accuracy_list_lin = [accuracy_lin1, accuracy_lin2, accuracy_lin3]\n",
    "accuracy_list_dtr = [accuracy_dtr1, accuracy_dtr2, accuracy_dtr3]\n",
    "accuracy_list_reg = [accuracy_reg1, accuracy_reg2, accuracy_reg3]\n",
    "accuracy_list_forest = [accuracy_forest1, accuracy_forest2, accuracy_forest3]\n",
    "print('Multiple Linear Regression accuracy:',accuracy_list_lin)\n",
    "print('Decision Tree Accuracy:',accuracy_list_dtr)\n",
    "print('Support Vector Regression Accuracy:',accuracy_list_reg)\n",
    "print('Random Forest Regression Accuracy:',accuracy_list_forest)"
   ]
  },
  {
   "cell_type": "code",
   "execution_count": 60,
   "metadata": {},
   "outputs": [
    {
     "data": {
      "image/png": "[encoded data removed]",
      "text/plain": [
       "<Figure size 432x288 with 1 Axes>"
      ]
     },
     "metadata": {
      "needs_background": "light"
     },
     "output_type": "display_data"
    }
   ],
   "source": [
    "plt.plot(train_list,accuracy_list_lin, label='Simple Linear regressor')\n",
    "plt.plot(train_list,accuracy_list_dtr, label='DecisionTreeRegressor')\n",
    "plt.plot(train_list,accuracy_list_reg, label='Support Vector Machine')\n",
    "plt.plot(train_list,accuracy_list_forest, label='RandomForestRegressor')\n",
    "plt.title('Accuracy comparison plot')\n",
    "plt.xlabel('Training data')\n",
    "plt.ylabel('Accuracy')\n",
    "plt.legend()\n",
    "plt.show()"
   ]
  },
  {
   "cell_type": "markdown",
   "metadata": {},
   "source": [
    "# New dataset"
   ]
  },
  {
   "cell_type": "code",
   "execution_count": 61,
   "metadata": {},
   "outputs": [
    {
     "data": {
      "text/html": [
       "<div>\n",
       "<style scoped>\n",
       "    .dataframe tbody tr th:only-of-type {\n",
       "        vertical-align: middle;\n",
       "    }\n",
       "\n",
       "    .dataframe tbody tr th {\n",
       "        vertical-align: top;\n",
       "    }\n",
       "\n",
       "    .dataframe thead th {\n",
       "        text-align: right;\n",
       "    }\n",
       "</style>\n",
       "<table border=\"1\" class=\"dataframe\">\n",
       "  <thead>\n",
       "    <tr style=\"text-align: right;\">\n",
       "      <th></th>\n",
       "      <th>Year</th>\n",
       "      <th>Location</th>\n",
       "      <th>Precipitation(mm)</th>\n",
       "      <th>Minimum Temperature (degree Celsius)</th>\n",
       "      <th>Mean Temperature(degree Celsius)</th>\n",
       "      <th>Maximum Temperature(degree Celsius)</th>\n",
       "      <th>Reference Crop Evapotranspiration (mm)</th>\n",
       "      <th>Area (In Hectare)</th>\n",
       "      <th>Production (In Tonnes)</th>\n",
       "    </tr>\n",
       "  </thead>\n",
       "  <tbody>\n",
       "    <tr>\n",
       "      <th>0</th>\n",
       "      <td>2018</td>\n",
       "      <td>Mysore</td>\n",
       "      <td>337.080500</td>\n",
       "      <td>21.046833</td>\n",
       "      <td>24.516167</td>\n",
       "      <td>28.030833</td>\n",
       "      <td>3.796667</td>\n",
       "      <td>91522</td>\n",
       "      <td>275479</td>\n",
       "    </tr>\n",
       "    <tr>\n",
       "      <th>1</th>\n",
       "      <td>2019</td>\n",
       "      <td>Mysore</td>\n",
       "      <td>445.379833</td>\n",
       "      <td>20.080310</td>\n",
       "      <td>25.219000</td>\n",
       "      <td>28.733833</td>\n",
       "      <td>3.860000</td>\n",
       "      <td>99284</td>\n",
       "      <td>311911</td>\n",
       "    </tr>\n",
       "    <tr>\n",
       "      <th>2</th>\n",
       "      <td>2020</td>\n",
       "      <td>Mysore</td>\n",
       "      <td>324.421333</td>\n",
       "      <td>21.240167</td>\n",
       "      <td>24.712667</td>\n",
       "      <td>28.227500</td>\n",
       "      <td>3.813333</td>\n",
       "      <td>100912</td>\n",
       "      <td>276379</td>\n",
       "    </tr>\n",
       "    <tr>\n",
       "      <th>3</th>\n",
       "      <td>2018</td>\n",
       "      <td>Mandya</td>\n",
       "      <td>282.824333</td>\n",
       "      <td>20.207833</td>\n",
       "      <td>24.127167</td>\n",
       "      <td>28.085333</td>\n",
       "      <td>3.998333</td>\n",
       "      <td>72125</td>\n",
       "      <td>243674</td>\n",
       "    </tr>\n",
       "    <tr>\n",
       "      <th>4</th>\n",
       "      <td>2019</td>\n",
       "      <td>Mandya</td>\n",
       "      <td>392.419333</td>\n",
       "      <td>19.898500</td>\n",
       "      <td>23.813833</td>\n",
       "      <td>27.771500</td>\n",
       "      <td>3.968333</td>\n",
       "      <td>60924</td>\n",
       "      <td>180615</td>\n",
       "    </tr>\n",
       "    <tr>\n",
       "      <th>5</th>\n",
       "      <td>2020</td>\n",
       "      <td>Mandya</td>\n",
       "      <td>262.536667</td>\n",
       "      <td>19.955333</td>\n",
       "      <td>23.879500</td>\n",
       "      <td>27.837167</td>\n",
       "      <td>3.978333</td>\n",
       "      <td>38327</td>\n",
       "      <td>110983</td>\n",
       "    </tr>\n",
       "    <tr>\n",
       "      <th>6</th>\n",
       "      <td>2018</td>\n",
       "      <td>Raichur</td>\n",
       "      <td>98.317167</td>\n",
       "      <td>22.357667</td>\n",
       "      <td>27.046333</td>\n",
       "      <td>31.765833</td>\n",
       "      <td>4.675000</td>\n",
       "      <td>100632</td>\n",
       "      <td>273862</td>\n",
       "    </tr>\n",
       "  </tbody>\n",
       "</table>\n",
       "</div>"
      ],
      "text/plain": [
       "   Year Location  Precipitation(mm)  Minimum Temperature (degree Celsius)  \\\n",
       "0  2018   Mysore         337.080500                             21.046833   \n",
       "1  2019   Mysore         445.379833                             20.080310   \n",
       "2  2020   Mysore         324.421333                             21.240167   \n",
       "3  2018   Mandya         282.824333                             20.207833   \n",
       "4  2019   Mandya         392.419333                             19.898500   \n",
       "5  2020   Mandya         262.536667                             19.955333   \n",
       "6  2018  Raichur          98.317167                             22.357667   \n",
       "\n",
       "   Mean Temperature(degree Celsius)  Maximum Temperature(degree Celsius)  \\\n",
       "0                         24.516167                            28.030833   \n",
       "1                         25.219000                            28.733833   \n",
       "2                         24.712667                            28.227500   \n",
       "3                         24.127167                            28.085333   \n",
       "4                         23.813833                            27.771500   \n",
       "5                         23.879500                            27.837167   \n",
       "6                         27.046333                            31.765833   \n",
       "\n",
       "   Reference Crop Evapotranspiration (mm)  Area (In Hectare)  \\\n",
       "0                                3.796667              91522   \n",
       "1                                3.860000              99284   \n",
       "2                                3.813333             100912   \n",
       "3                                3.998333              72125   \n",
       "4                                3.968333              60924   \n",
       "5                                3.978333              38327   \n",
       "6                                4.675000             100632   \n",
       "\n",
       "   Production (In Tonnes)  \n",
       "0                  275479  \n",
       "1                  311911  \n",
       "2                  276379  \n",
       "3                  243674  \n",
       "4                  180615  \n",
       "5                  110983  \n",
       "6                  273862  "
      ]
     },
     "execution_count": 61,
     "metadata": {},
     "output_type": "execute_result"
    }
   ],
   "source": [
    "df_crop_new = pandas.read_csv(r'C:\\Users\\Lenovo\\Desktop\\Crop-Yield-Prediction-master\\Crop Yield Prediction\\Data\\New_crop_data.csv')\n",
    "df_crop_new.head(7)"
   ]
  },
  {
   "cell_type": "markdown",
   "metadata": {},
   "source": [
    "**preprocessing of new data**"
   ]
  },
  {
   "cell_type": "code",
   "execution_count": 62,
   "metadata": {},
   "outputs": [
    {
     "name": "stdout",
     "output_type": "stream",
     "text": [
      "*****Data cleanising result for new data*****\n",
      "\n",
      "   Location  Precipitation(mm)  Minimum Temperature (degree Celsius)  \\\n",
      "0 -0.538462           0.337610                             -0.038142   \n",
      "1 -0.538462           0.623115                             -0.416948   \n",
      "2 -0.538462           0.304237                              0.037631   \n",
      "3 -0.205128           0.194577                             -0.366968   \n",
      "4 -0.205128           0.483497                             -0.488204   \n",
      "\n",
      "   Mean Temperature(degree Celsius)  Maximum Temperature(degree Celsius)  \\\n",
      "0                         -0.265171                            -0.346712   \n",
      "1                         -0.047744                            -0.170713   \n",
      "2                         -0.204383                            -0.297476   \n",
      "3                         -0.385512                            -0.333068   \n",
      "4                         -0.482444                            -0.411638   \n",
      "\n",
      "   Reference Crop Evapotranspiration (mm)  Area (In Hectare)  \\\n",
      "0                               -0.398973           0.375313   \n",
      "1                               -0.341310           0.496965   \n",
      "2                               -0.383798           0.522480   \n",
      "3                               -0.215361           0.071309   \n",
      "4                               -0.242675          -0.104242   \n",
      "\n",
      "   Production (In Tonnes)  \n",
      "0                0.252880  \n",
      "1                0.375268  \n",
      "2                0.255904  \n",
      "3                0.146036  \n",
      "4               -0.065801  \n"
     ]
    }
   ],
   "source": [
    "new_data_processed= df_crop_new.iloc[:,1:9]\n",
    "new_data_processed[\"Location\"] = new_data_processed[\"Location\"].replace([\"Mysore\", \"Mandya\", \"Raichur\", \"Koppal\"], [1,2,3,4])\n",
    "new_data_processed = (new_data_processed - new_data_processed.mean()) / (new_data_processed.max() - new_data_processed.min())\n",
    "print(\"*****Data cleanising result for new data*****\\n\")\n",
    "print(new_data_processed.head())"
   ]
  },
  {
   "cell_type": "code",
   "execution_count": 63,
   "metadata": {},
   "outputs": [
    {
     "name": "stdout",
     "output_type": "stream",
     "text": [
      "    Year Location  Precipitation(mm)  Minimum Temperature (degree Celsius)  \\\n",
      "0   2018   Mysore         337.080500                             21.046833   \n",
      "1   2019   Mysore         445.379833                             20.080310   \n",
      "2   2020   Mysore         324.421333                             21.240167   \n",
      "3   2018   Mandya         282.824333                             20.207833   \n",
      "4   2019   Mandya         392.419333                             19.898500   \n",
      "5   2020   Mandya         262.536667                             19.955333   \n",
      "6   2018  Raichur          98.317167                             22.357667   \n",
      "7   2019  Raichur          66.054500                             21.619000   \n",
      "8   2020  Raichur          93.076000                             21.683833   \n",
      "9   2018   Koppal         105.302667                             21.801667   \n",
      "10  2019   Koppal          81.386667                             21.431000   \n",
      "11  2020   Koppal         113.626667                             21.101833   \n",
      "\n",
      "    Mean Temperature(degree Celsius)  Maximum Temperature(degree Celsius)  \\\n",
      "0                          24.516167                            28.030833   \n",
      "1                          25.219000                            28.733833   \n",
      "2                          24.712667                            28.227500   \n",
      "3                          24.127167                            28.085333   \n",
      "4                          23.813833                            27.771500   \n",
      "5                          23.879500                            27.837167   \n",
      "6                          27.046333                            31.765833   \n",
      "7                          26.309000                            31.028833   \n",
      "8                          26.363500                            31.084833   \n",
      "9                          26.058667                            30.341667   \n",
      "10                         25.675500                            29.966667   \n",
      "11                         25.343000                            29.633333   \n",
      "\n",
      "    Reference Crop Evapotranspiration (mm)  Area (In Hectare)  \\\n",
      "0                                 3.796667              91522   \n",
      "1                                 3.860000              99284   \n",
      "2                                 3.813333             100912   \n",
      "3                                 3.998333              72125   \n",
      "4                                 3.968333              60924   \n",
      "5                                 3.978333              38327   \n",
      "6                                 4.675000             100632   \n",
      "7                                 4.596667              81530   \n",
      "8                                 4.601667              77825   \n",
      "9                                 4.325000              40357   \n",
      "10                                4.291667              37107   \n",
      "11                                4.253333              38476   \n",
      "\n",
      "    Production (In Tonnes)  yield prediction from MLR  \n",
      "0                   275479                   2.759328  \n",
      "1                   311911                   2.541253  \n",
      "2                   276379                   2.255529  \n",
      "3                   243674                   3.433806  \n",
      "4                   180615                   3.335646  \n",
      "5                   110983                   3.642842  \n",
      "6                   273862                   2.163575  \n",
      "7                   285068                   3.304118  \n",
      "8                   245184                   3.040219  \n",
      "9                   125267                   3.912628  \n",
      "10                  114905                   3.942636  \n",
      "11                  145069                   4.247119  \n"
     ]
    }
   ],
   "source": [
    "pv_lin_new =model_lin.predict(new_data_processed)\n",
    "df_crop_new['yield prediction from MLR'] = pv_lin_new\n",
    "print(df_crop_new.head(12))"
   ]
  }
 ],
 "metadata": {
  "kernelspec": {
   "display_name": "Python 3",
   "language": "python",
   "name": "python3"
  },
  "language_info": {
   "codemirror_mode": {
    "name": "ipython",
    "version": 3
   },
   "file_extension": ".py",
   "mimetype": "text/x-python",
   "name": "python",
   "nbconvert_exporter": "python",
   "pygments_lexer": "ipython3",
   "version": "3.7.6"
  }
 },
 "nbformat": 4,
 "nbformat_minor": 4
}
